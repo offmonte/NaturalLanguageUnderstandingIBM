{
  "nbformat": 4,
  "nbformat_minor": 0,
  "metadata": {
    "colab": {
      "provenance": []
    },
    "kernelspec": {
      "name": "python3",
      "display_name": "Python 3"
    },
    "language_info": {
      "name": "python"
    }
  },
  "cells": [
    {
      "cell_type": "code",
      "source": [
        "import json\n",
        "from watson_developer_cloud import NaturalLanguageUnderstandingV1\n",
        "from watson_developer_cloud.natural_language_understanding_v1 import Features, ConceptsOptions, RelationsOptions, EmotionOptions, EntitiesOptions, SemanticRolesOptions, SentimentOptions"
      ],
      "metadata": {
        "id": "KZszogMeAPyX"
      },
      "execution_count": 5,
      "outputs": []
    },
    {
      "cell_type": "code",
      "source": [
        "natural_language_understanding = NaturalLanguageUnderstandingV1(\n",
        "    username='coloque_aqui_seu_usuario',\n",
        "    password='aqui_sua_senha',\n",
        "    version='YYYY-MM-DD'\n",
        ")"
      ],
      "metadata": {
        "id": "U_dtqCped35C"
      },
      "execution_count": null,
      "outputs": []
    },
    {
      "cell_type": "code",
      "source": [
        "response = natural_language_understanding.analyze(\n",
        "    text='Do you like cake?', #O texto precisa ser inglês\n",
        "    features=Features(\n",
        "        concepts=ConceptsOptions(),\n",
        "        emotion=EmotionOptions(),\n",
        "        entities=EntitiesOptions(),\n",
        "        sentiment=SentimentOptions()\n",
        "    )\n",
        ")\n"
      ],
      "metadata": {
        "id": "6tGhjl4Md39T"
      },
      "execution_count": null,
      "outputs": []
    },
    {
      "cell_type": "code",
      "source": [
        "print(json.dumps(response,indent=2))"
      ],
      "metadata": {
        "id": "4bKZX5L4eedS"
      },
      "execution_count": null,
      "outputs": []
    }
  ]
}